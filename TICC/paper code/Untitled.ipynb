{
 "cells": [
  {
   "cell_type": "code",
   "execution_count": 1,
   "metadata": {},
   "outputs": [
    {
     "ename": "SyntaxError",
     "evalue": "Missing parentheses in call to 'print'. Did you mean print('Serial ADMM')? (solveCrossTime.py, line 127)",
     "output_type": "error",
     "traceback": [
      "Traceback \u001b[1;36m(most recent call last)\u001b[0m:\n",
      "  File \u001b[0;32m\"S:\\Development\\Bachelorarbeit\\venv\\lib\\site-packages\\IPython\\core\\interactiveshell.py\"\u001b[0m, line \u001b[0;32m3437\u001b[0m, in \u001b[0;35mrun_code\u001b[0m\n    exec(code_obj, self.user_global_ns, self.user_ns)\n",
      "\u001b[1;36m  File \u001b[1;32m\"<ipython-input-1-703687a7e51a>\"\u001b[1;36m, line \u001b[1;32m4\u001b[1;36m, in \u001b[1;35m<module>\u001b[1;36m\u001b[0m\n\u001b[1;33m    from solveCrossTime import *\u001b[0m\n",
      "\u001b[1;36m  File \u001b[1;32m\"S:\\Development\\Bachelorarbeit\\TICC\\paper code\\solveCrossTime.py\"\u001b[1;36m, line \u001b[1;32m127\u001b[0m\n\u001b[1;33m    print 'Serial ADMM'\u001b[0m\n\u001b[1;37m                      ^\u001b[0m\n\u001b[1;31mSyntaxError\u001b[0m\u001b[1;31m:\u001b[0m Missing parentheses in call to 'print'. Did you mean print('Serial ADMM')?\n"
     ]
    }
   ],
   "source": [
    "import numpy as np\n",
    "import numpy.linalg as alg\n",
    "#import scipy as spy\n",
    "from solveCrossTime import *\n",
    "import math\n",
    "\n"
   ]
  },
  {
   "cell_type": "code",
   "execution_count": 5,
   "metadata": {},
   "outputs": [
    {
     "ename": "ModuleNotFoundError",
     "evalue": "No module named 'cvxpy'",
     "output_type": "error",
     "traceback": [
      "\u001b[1;31m---------------------------------------------------------------------------\u001b[0m",
      "\u001b[1;31mModuleNotFoundError\u001b[0m                       Traceback (most recent call last)",
      "\u001b[1;32m<ipython-input-5-f34eb9a092a2>\u001b[0m in \u001b[0;36m<module>\u001b[1;34m\u001b[0m\n\u001b[0;32m      2\u001b[0m \u001b[1;32mimport\u001b[0m \u001b[0mnumpy\u001b[0m\u001b[1;33m.\u001b[0m\u001b[0mlinalg\u001b[0m \u001b[1;32mas\u001b[0m \u001b[0malg\u001b[0m\u001b[1;33m\u001b[0m\u001b[1;33m\u001b[0m\u001b[0m\n\u001b[0;32m      3\u001b[0m \u001b[1;32mimport\u001b[0m \u001b[0mscipy\u001b[0m \u001b[1;32mas\u001b[0m \u001b[0mspy\u001b[0m\u001b[1;33m\u001b[0m\u001b[1;33m\u001b[0m\u001b[0m\n\u001b[1;32m----> 4\u001b[1;33m \u001b[1;32mfrom\u001b[0m \u001b[0msolveCrossTime\u001b[0m \u001b[1;32mimport\u001b[0m \u001b[1;33m*\u001b[0m\u001b[1;33m\u001b[0m\u001b[1;33m\u001b[0m\u001b[0m\n\u001b[0m\u001b[0;32m      5\u001b[0m \u001b[1;32mimport\u001b[0m \u001b[0mmath\u001b[0m\u001b[1;33m\u001b[0m\u001b[1;33m\u001b[0m\u001b[0m\n\u001b[0;32m      6\u001b[0m \u001b[1;33m\u001b[0m\u001b[0m\n",
      "\u001b[1;32mS:\\Development\\Bachelorarbeit\\TICC\\paper code\\solveCrossTime.py\u001b[0m in \u001b[0;36m<module>\u001b[1;34m\u001b[0m\n\u001b[0;32m      1\u001b[0m \u001b[1;32mfrom\u001b[0m \u001b[0msnap\u001b[0m \u001b[1;32mimport\u001b[0m \u001b[1;33m*\u001b[0m\u001b[1;33m\u001b[0m\u001b[1;33m\u001b[0m\u001b[0m\n\u001b[1;32m----> 2\u001b[1;33m \u001b[1;32mfrom\u001b[0m \u001b[0mcvxpy\u001b[0m \u001b[1;32mimport\u001b[0m \u001b[1;33m*\u001b[0m\u001b[1;33m\u001b[0m\u001b[1;33m\u001b[0m\u001b[0m\n\u001b[0m\u001b[0;32m      3\u001b[0m \u001b[1;33m\u001b[0m\u001b[0m\n\u001b[0;32m      4\u001b[0m \u001b[1;32mimport\u001b[0m \u001b[0mmath\u001b[0m\u001b[1;33m\u001b[0m\u001b[1;33m\u001b[0m\u001b[0m\n\u001b[0;32m      5\u001b[0m \u001b[1;32mimport\u001b[0m \u001b[0mmultiprocessing\u001b[0m\u001b[1;33m\u001b[0m\u001b[1;33m\u001b[0m\u001b[0m\n",
      "\u001b[1;31mModuleNotFoundError\u001b[0m: No module named 'cvxpy'"
     ]
    }
   ],
   "source": [
    "import numpy as np\n",
    "import numpy.linalg as alg\n",
    "import scipy as spy\n",
    "from solveCrossTime import *\n",
    "import math\n",
    "\n",
    "\n",
    "\n",
    "def upper2Full(a, eps = 0):\n",
    "    ind = (a<eps)&(a>-eps)\n",
    "    a[ind] = 0\n",
    "    n = int((-1  + np.sqrt(1+ 8*a.shape[0]))/2)  \n",
    "    A = np.zeros([n,n])\n",
    "    A[np.triu_indices(n)] = a \n",
    "    temp = A.diagonal()\n",
    "    A = np.asarray((A + A.T) - np.diag(temp))             \n",
    "    return A   \n",
    "\n",
    "\n",
    "\n",
    "numBlocks = 3\n",
    "sizeBlocks = 2\n",
    "probSize = numBlocks*sizeBlocks\n",
    "lamb = 0.1*np.zeros((probSize,probSize))\n",
    "S = 0\n",
    "\n",
    "\n",
    "\n",
    "\n",
    "\n",
    "np.random.seed(0)\n",
    "\n",
    "S_inv =  np.matrix('1 0.5 0 0.4 0.5 0; 0.5 1 0.2 0 0 0.8; 0 0.2 1 0.5 0 0.4; 0.4 0 0.5 1 0.2 0; 0.5 0 0 0.2 1 0.5; 0 0.8 0.4 0 0.5 1')\n",
    "S_inv = S_inv + np.abs(min(np.linalg.eig(S_inv)[0]) + 0.4849 )*np.eye(probSize)\n",
    "\n",
    "\n",
    "S = np.linalg.inv(S_inv)\n",
    "\n",
    "\n",
    "\n",
    "\n",
    "\n",
    "print(S, \"= S\")\n",
    "\n",
    "\n",
    "#COPY THIS CODE\n",
    "gvx = TGraphVX()\n",
    "theta = semidefinite(probSize,name='theta')\n",
    "obj = -log_det(theta) + trace(S*theta)\n",
    "gvx.AddNode(0, obj)\n",
    "gvx.AddNode(1)\n",
    "dummy = Variable(1)\n",
    "gvx.AddEdge(0,1, Objective = lamb*dummy + numBlocks*dummy + sizeBlocks*dummy)\n",
    "gvx.Solve(Verbose=True, MaxIters=1000, Rho = 1, EpsAbs = 1e-6, EpsRel = 1e-6)\n",
    "\n",
    "#THIS IS THE SOLUTION\n",
    "val = gvx.GetNodeValue(0,'theta')\n",
    "S_est = upper2Full(val, 1e-5)\n",
    "\n",
    "np.set_printoptions(precision=4, suppress=True)\n",
    "print(np.linalg.inv(S))\n",
    "\n",
    "print(S_est)\n"
   ]
  },
  {
   "cell_type": "code",
   "execution_count": null,
   "metadata": {},
   "outputs": [],
   "source": []
  }
 ],
 "metadata": {
  "kernelspec": {
   "display_name": "venv",
   "language": "python",
   "name": "venv"
  },
  "language_info": {
   "codemirror_mode": {
    "name": "ipython",
    "version": 3
   },
   "file_extension": ".py",
   "mimetype": "text/x-python",
   "name": "python",
   "nbconvert_exporter": "python",
   "pygments_lexer": "ipython3",
   "version": "3.7.9"
  }
 },
 "nbformat": 4,
 "nbformat_minor": 4
}
